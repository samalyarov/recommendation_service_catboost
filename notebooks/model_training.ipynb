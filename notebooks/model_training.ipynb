{
 "cells": [
  {
   "cell_type": "markdown",
   "metadata": {},
   "source": [
    "# Training the model\n",
    "\n",
    "Catboost was selected as go-to solution for simplicity and ease of implementation"
   ]
  },
  {
   "cell_type": "code",
   "execution_count": 1,
   "metadata": {},
   "outputs": [
    {
     "name": "stdout",
     "output_type": "stream",
     "text": [
      "Kernel Operational\n"
     ]
    }
   ],
   "source": [
    "print('Kernel Operational')"
   ]
  },
  {
   "cell_type": "markdown",
   "metadata": {},
   "source": [
    "## Preliminary stage - preparation"
   ]
  },
  {
   "cell_type": "markdown",
   "metadata": {},
   "source": [
    "### Importing libraries"
   ]
  },
  {
   "cell_type": "code",
   "execution_count": 10,
   "metadata": {},
   "outputs": [],
   "source": [
    "# Working with data\n",
    "import numpy as np\n",
    "import pandas as pd\n",
    "from sqlalchemy import create_engine\n",
    "\n",
    "# Data visualization\n",
    "import matplotlib.pyplot as plt\n",
    "import seaborn as sns\n",
    "import plotly.express as px\n",
    "\n",
    "# Feature engineering\n",
    "from sklearn.pipeline import Pipeline\n",
    "from sklearn.model_selection import train_test_split\n",
    "from sklearn.feature_extraction.text import TfidfVectorizer\n",
    "from sklearn.compose import ColumnTransformer\n",
    "from category_encoders import TargetEncoder\n",
    "from category_encoders.one_hot import OneHotEncoder\n",
    "from sklearn.preprocessing import StandardScaler\n",
    "\n",
    "# Additional tools\n",
    "import time\n",
    "import os\n",
    "from dotenv import load_dotenv\n",
    "from datetime import datetime\n",
    "import ipywidgets"
   ]
  },
  {
   "cell_type": "code",
   "execution_count": null,
   "metadata": {},
   "outputs": [],
   "source": [
    "# Models\n",
    "from catboost import CatBoostClassifier"
   ]
  },
  {
   "cell_type": "markdown",
   "metadata": {},
   "source": [
    "### Loading (and uploading) data"
   ]
  },
  {
   "cell_type": "code",
   "execution_count": 11,
   "metadata": {},
   "outputs": [],
   "source": [
    "# Loading variables from .env file (you should have one added to .gitignore)\n",
    "load_dotenv()\n",
    "\n",
    "# Get database connection params from environment variables\n",
    "database = os.getenv(\"DATABASE\")\n",
    "user = os.getenv(\"USER\")\n",
    "password = os.getenv(\"PASSWORD\")\n",
    "host = os.getenv(\"HOST\")\n",
    "port = os.getenv(\"PORT\")\n",
    "\n",
    "# Form the connection string\n",
    "connection = f\"postgresql://{user}:{password}@{host}:{port}/{database}\""
   ]
  },
  {
   "cell_type": "code",
   "execution_count": 12,
   "metadata": {},
   "outputs": [
    {
     "data": {
      "text/html": [
       "<div>\n",
       "<style scoped>\n",
       "    .dataframe tbody tr th:only-of-type {\n",
       "        vertical-align: middle;\n",
       "    }\n",
       "\n",
       "    .dataframe tbody tr th {\n",
       "        vertical-align: top;\n",
       "    }\n",
       "\n",
       "    .dataframe thead th {\n",
       "        text-align: right;\n",
       "    }\n",
       "</style>\n",
       "<table border=\"1\" class=\"dataframe\">\n",
       "  <thead>\n",
       "    <tr style=\"text-align: right;\">\n",
       "      <th></th>\n",
       "      <th>user_id</th>\n",
       "      <th>gender</th>\n",
       "      <th>age</th>\n",
       "      <th>country</th>\n",
       "      <th>city</th>\n",
       "      <th>exp_group</th>\n",
       "      <th>os</th>\n",
       "      <th>source</th>\n",
       "    </tr>\n",
       "  </thead>\n",
       "  <tbody>\n",
       "    <tr>\n",
       "      <th>0</th>\n",
       "      <td>200</td>\n",
       "      <td>1</td>\n",
       "      <td>34</td>\n",
       "      <td>Russia</td>\n",
       "      <td>Degtyarsk</td>\n",
       "      <td>3</td>\n",
       "      <td>Android</td>\n",
       "      <td>ads</td>\n",
       "    </tr>\n",
       "    <tr>\n",
       "      <th>1</th>\n",
       "      <td>201</td>\n",
       "      <td>0</td>\n",
       "      <td>37</td>\n",
       "      <td>Russia</td>\n",
       "      <td>Abakan</td>\n",
       "      <td>0</td>\n",
       "      <td>Android</td>\n",
       "      <td>ads</td>\n",
       "    </tr>\n",
       "    <tr>\n",
       "      <th>2</th>\n",
       "      <td>202</td>\n",
       "      <td>1</td>\n",
       "      <td>17</td>\n",
       "      <td>Russia</td>\n",
       "      <td>Smolensk</td>\n",
       "      <td>4</td>\n",
       "      <td>Android</td>\n",
       "      <td>ads</td>\n",
       "    </tr>\n",
       "    <tr>\n",
       "      <th>3</th>\n",
       "      <td>203</td>\n",
       "      <td>0</td>\n",
       "      <td>18</td>\n",
       "      <td>Russia</td>\n",
       "      <td>Moscow</td>\n",
       "      <td>1</td>\n",
       "      <td>iOS</td>\n",
       "      <td>ads</td>\n",
       "    </tr>\n",
       "    <tr>\n",
       "      <th>4</th>\n",
       "      <td>204</td>\n",
       "      <td>0</td>\n",
       "      <td>36</td>\n",
       "      <td>Russia</td>\n",
       "      <td>Anzhero-Sudzhensk</td>\n",
       "      <td>3</td>\n",
       "      <td>Android</td>\n",
       "      <td>ads</td>\n",
       "    </tr>\n",
       "  </tbody>\n",
       "</table>\n",
       "</div>"
      ],
      "text/plain": [
       "   user_id  gender  age country               city  exp_group       os source\n",
       "0      200       1   34  Russia          Degtyarsk          3  Android    ads\n",
       "1      201       0   37  Russia             Abakan          0  Android    ads\n",
       "2      202       1   17  Russia           Smolensk          4  Android    ads\n",
       "3      203       0   18  Russia             Moscow          1      iOS    ads\n",
       "4      204       0   36  Russia  Anzhero-Sudzhensk          3  Android    ads"
      ]
     },
     "execution_count": 12,
     "metadata": {},
     "output_type": "execute_result"
    }
   ],
   "source": [
    "# Acquiring user for training the model\n",
    "user_data = pd.read_sql(\n",
    "    \"\"\"SELECT * \n",
    "       FROM public.user_data;\n",
    "    \"\"\",\n",
    "    con=connection\n",
    ")\n",
    "\n",
    "# Checking out the sample\n",
    "user_data.head()"
   ]
  },
  {
   "cell_type": "markdown",
   "metadata": {},
   "source": [
    "Let's further **enrich the user-level data** somewhat - by making some additional calculations. Not too many - just a \"starters\" kit."
   ]
  },
  {
   "cell_type": "code",
   "execution_count": 13,
   "metadata": {},
   "outputs": [
    {
     "data": {
      "text/html": [
       "<div>\n",
       "<style scoped>\n",
       "    .dataframe tbody tr th:only-of-type {\n",
       "        vertical-align: middle;\n",
       "    }\n",
       "\n",
       "    .dataframe tbody tr th {\n",
       "        vertical-align: top;\n",
       "    }\n",
       "\n",
       "    .dataframe thead th {\n",
       "        text-align: right;\n",
       "    }\n",
       "</style>\n",
       "<table border=\"1\" class=\"dataframe\">\n",
       "  <thead>\n",
       "    <tr style=\"text-align: right;\">\n",
       "      <th></th>\n",
       "      <th>user_id</th>\n",
       "      <th>unique_post_interactions</th>\n",
       "      <th>posts_liked</th>\n",
       "      <th>total_views</th>\n",
       "    </tr>\n",
       "  </thead>\n",
       "  <tbody>\n",
       "    <tr>\n",
       "      <th>0</th>\n",
       "      <td>200</td>\n",
       "      <td>346</td>\n",
       "      <td>43</td>\n",
       "      <td>358</td>\n",
       "    </tr>\n",
       "    <tr>\n",
       "      <th>1</th>\n",
       "      <td>201</td>\n",
       "      <td>646</td>\n",
       "      <td>58</td>\n",
       "      <td>690</td>\n",
       "    </tr>\n",
       "    <tr>\n",
       "      <th>2</th>\n",
       "      <td>202</td>\n",
       "      <td>593</td>\n",
       "      <td>87</td>\n",
       "      <td>637</td>\n",
       "    </tr>\n",
       "    <tr>\n",
       "      <th>3</th>\n",
       "      <td>203</td>\n",
       "      <td>311</td>\n",
       "      <td>61</td>\n",
       "      <td>321</td>\n",
       "    </tr>\n",
       "    <tr>\n",
       "      <th>4</th>\n",
       "      <td>204</td>\n",
       "      <td>134</td>\n",
       "      <td>23</td>\n",
       "      <td>138</td>\n",
       "    </tr>\n",
       "  </tbody>\n",
       "</table>\n",
       "</div>"
      ],
      "text/plain": [
       "   user_id  unique_post_interactions  posts_liked  total_views\n",
       "0      200                       346           43          358\n",
       "1      201                       646           58          690\n",
       "2      202                       593           87          637\n",
       "3      203                       311           61          321\n",
       "4      204                       134           23          138"
      ]
     },
     "execution_count": 13,
     "metadata": {},
     "output_type": "execute_result"
    }
   ],
   "source": [
    "# Enirching the data somewhat\n",
    "additional_user_features = pd.read_sql(\n",
    "    \"\"\"SELECT user_id,\n",
    "              COUNT(DISTINCT(post_id)) AS unique_post_interactions,\n",
    "              COUNT(DISTINCT(post_id)) FILTER (WHERE action ='like') AS posts_liked,\n",
    "              COUNT(action) FILTER (WHERE action = 'view') AS total_views\n",
    "       FROM public.feed_data\n",
    "       GROUP BY user_id\n",
    "    \"\"\",\n",
    "    con=connection\n",
    ")\n",
    "\n",
    "# Checking out the sample\n",
    "additional_user_features.head()"
   ]
  },
  {
   "cell_type": "code",
   "execution_count": 14,
   "metadata": {},
   "outputs": [
    {
     "data": {
      "text/html": [
       "<div>\n",
       "<style scoped>\n",
       "    .dataframe tbody tr th:only-of-type {\n",
       "        vertical-align: middle;\n",
       "    }\n",
       "\n",
       "    .dataframe tbody tr th {\n",
       "        vertical-align: top;\n",
       "    }\n",
       "\n",
       "    .dataframe thead th {\n",
       "        text-align: right;\n",
       "    }\n",
       "</style>\n",
       "<table border=\"1\" class=\"dataframe\">\n",
       "  <thead>\n",
       "    <tr style=\"text-align: right;\">\n",
       "      <th></th>\n",
       "      <th>user_id</th>\n",
       "      <th>gender</th>\n",
       "      <th>age</th>\n",
       "      <th>country</th>\n",
       "      <th>city</th>\n",
       "      <th>exp_group</th>\n",
       "      <th>os</th>\n",
       "      <th>source</th>\n",
       "      <th>unique_post_interactions</th>\n",
       "      <th>posts_liked</th>\n",
       "      <th>total_views</th>\n",
       "      <th>posts_liked_share</th>\n",
       "    </tr>\n",
       "  </thead>\n",
       "  <tbody>\n",
       "    <tr>\n",
       "      <th>44956</th>\n",
       "      <td>48483</td>\n",
       "      <td>0</td>\n",
       "      <td>21</td>\n",
       "      <td>Russia</td>\n",
       "      <td>Nizhnekamsk</td>\n",
       "      <td>3</td>\n",
       "      <td>Android</td>\n",
       "      <td>ads</td>\n",
       "      <td>243</td>\n",
       "      <td>24</td>\n",
       "      <td>248</td>\n",
       "      <td>0.098765</td>\n",
       "    </tr>\n",
       "    <tr>\n",
       "      <th>24295</th>\n",
       "      <td>24509</td>\n",
       "      <td>1</td>\n",
       "      <td>53</td>\n",
       "      <td>Russia</td>\n",
       "      <td>Yakutsk</td>\n",
       "      <td>0</td>\n",
       "      <td>Android</td>\n",
       "      <td>ads</td>\n",
       "      <td>288</td>\n",
       "      <td>24</td>\n",
       "      <td>297</td>\n",
       "      <td>0.083333</td>\n",
       "    </tr>\n",
       "    <tr>\n",
       "      <th>130759</th>\n",
       "      <td>136089</td>\n",
       "      <td>0</td>\n",
       "      <td>16</td>\n",
       "      <td>Russia</td>\n",
       "      <td>Tyumen</td>\n",
       "      <td>3</td>\n",
       "      <td>Android</td>\n",
       "      <td>organic</td>\n",
       "      <td>245</td>\n",
       "      <td>9</td>\n",
       "      <td>256</td>\n",
       "      <td>0.036735</td>\n",
       "    </tr>\n",
       "    <tr>\n",
       "      <th>50731</th>\n",
       "      <td>54425</td>\n",
       "      <td>0</td>\n",
       "      <td>17</td>\n",
       "      <td>Russia</td>\n",
       "      <td>Pskov</td>\n",
       "      <td>0</td>\n",
       "      <td>iOS</td>\n",
       "      <td>ads</td>\n",
       "      <td>161</td>\n",
       "      <td>18</td>\n",
       "      <td>162</td>\n",
       "      <td>0.111801</td>\n",
       "    </tr>\n",
       "    <tr>\n",
       "      <th>95216</th>\n",
       "      <td>99438</td>\n",
       "      <td>1</td>\n",
       "      <td>51</td>\n",
       "      <td>Russia</td>\n",
       "      <td>Volgodonsk</td>\n",
       "      <td>1</td>\n",
       "      <td>Android</td>\n",
       "      <td>ads</td>\n",
       "      <td>519</td>\n",
       "      <td>38</td>\n",
       "      <td>547</td>\n",
       "      <td>0.073218</td>\n",
       "    </tr>\n",
       "  </tbody>\n",
       "</table>\n",
       "</div>"
      ],
      "text/plain": [
       "        user_id  gender  age country         city  exp_group       os  \\\n",
       "44956     48483       0   21  Russia  Nizhnekamsk          3  Android   \n",
       "24295     24509       1   53  Russia      Yakutsk          0  Android   \n",
       "130759   136089       0   16  Russia       Tyumen          3  Android   \n",
       "50731     54425       0   17  Russia        Pskov          0      iOS   \n",
       "95216     99438       1   51  Russia   Volgodonsk          1  Android   \n",
       "\n",
       "         source  unique_post_interactions  posts_liked  total_views  \\\n",
       "44956       ads                       243           24          248   \n",
       "24295       ads                       288           24          297   \n",
       "130759  organic                       245            9          256   \n",
       "50731       ads                       161           18          162   \n",
       "95216       ads                       519           38          547   \n",
       "\n",
       "        posts_liked_share  \n",
       "44956            0.098765  \n",
       "24295            0.083333  \n",
       "130759           0.036735  \n",
       "50731            0.111801  \n",
       "95216            0.073218  "
      ]
     },
     "execution_count": 14,
     "metadata": {},
     "output_type": "execute_result"
    }
   ],
   "source": [
    "# Adding new features to the general user data table\n",
    "user_data = user_data.merge(additional_user_features, on='user_id', how='left')\n",
    "user_data['posts_liked_share'] = user_data['posts_liked'] / user_data['unique_post_interactions']\n",
    "user_data.sample(5) # Once again - a sample just to check"
   ]
  },
  {
   "cell_type": "markdown",
   "metadata": {},
   "source": [
    "Let's move over to posts data"
   ]
  },
  {
   "cell_type": "code",
   "execution_count": 15,
   "metadata": {},
   "outputs": [
    {
     "data": {
      "text/html": [
       "<div>\n",
       "<style scoped>\n",
       "    .dataframe tbody tr th:only-of-type {\n",
       "        vertical-align: middle;\n",
       "    }\n",
       "\n",
       "    .dataframe tbody tr th {\n",
       "        vertical-align: top;\n",
       "    }\n",
       "\n",
       "    .dataframe thead th {\n",
       "        text-align: right;\n",
       "    }\n",
       "</style>\n",
       "<table border=\"1\" class=\"dataframe\">\n",
       "  <thead>\n",
       "    <tr style=\"text-align: right;\">\n",
       "      <th></th>\n",
       "      <th>post_id</th>\n",
       "      <th>text</th>\n",
       "      <th>topic</th>\n",
       "    </tr>\n",
       "  </thead>\n",
       "  <tbody>\n",
       "    <tr>\n",
       "      <th>0</th>\n",
       "      <td>1</td>\n",
       "      <td>UK economy facing major risks\\n\\nThe UK manufa...</td>\n",
       "      <td>business</td>\n",
       "    </tr>\n",
       "    <tr>\n",
       "      <th>1</th>\n",
       "      <td>2</td>\n",
       "      <td>Aids and climate top Davos agenda\\n\\nClimate c...</td>\n",
       "      <td>business</td>\n",
       "    </tr>\n",
       "    <tr>\n",
       "      <th>2</th>\n",
       "      <td>3</td>\n",
       "      <td>Asian quake hits European shares\\n\\nShares in ...</td>\n",
       "      <td>business</td>\n",
       "    </tr>\n",
       "    <tr>\n",
       "      <th>3</th>\n",
       "      <td>4</td>\n",
       "      <td>India power shares jump on debut\\n\\nShares in ...</td>\n",
       "      <td>business</td>\n",
       "    </tr>\n",
       "    <tr>\n",
       "      <th>4</th>\n",
       "      <td>5</td>\n",
       "      <td>Lacroix label bought by US firm\\n\\nLuxury good...</td>\n",
       "      <td>business</td>\n",
       "    </tr>\n",
       "  </tbody>\n",
       "</table>\n",
       "</div>"
      ],
      "text/plain": [
       "   post_id                                               text     topic\n",
       "0        1  UK economy facing major risks\\n\\nThe UK manufa...  business\n",
       "1        2  Aids and climate top Davos agenda\\n\\nClimate c...  business\n",
       "2        3  Asian quake hits European shares\\n\\nShares in ...  business\n",
       "3        4  India power shares jump on debut\\n\\nShares in ...  business\n",
       "4        5  Lacroix label bought by US firm\\n\\nLuxury good...  business"
      ]
     },
     "execution_count": 15,
     "metadata": {},
     "output_type": "execute_result"
    }
   ],
   "source": [
    "# Acquiring post data for training the model\n",
    "post_data = pd.read_sql(\n",
    "    \"\"\"SELECT * \n",
    "       FROM public.post_text_df;\n",
    "    \"\"\",\n",
    "    con=connection\n",
    ")\n",
    "\n",
    "# Checking out the sample\n",
    "post_data.head()"
   ]
  },
  {
   "cell_type": "markdown",
   "metadata": {},
   "source": [
    "Once again - let's enrich it a bit"
   ]
  },
  {
   "cell_type": "code",
   "execution_count": 16,
   "metadata": {},
   "outputs": [],
   "source": [
    "# Add post length to data about it\n",
    "post_data['post_length'] = post_data['text'].apply(len) # Calculate the post length"
   ]
  },
  {
   "cell_type": "markdown",
   "metadata": {},
   "source": [
    "Ideally, **we should aggregate the data in the `feed_data` table within SQL**, so that we could get maximum information from it. However, we're not going to do that now, as it would take a lot of effort and **we might end up with acceptable model even without it.**\n",
    "\n",
    "As a quick makeshift solution - we will simply limit the number of loaded feed logs - for now, the limit will be set at 4 mil.\n",
    "\n",
    "Additionally, as the DB states, the `target` is skipped for `action='like'` objects. It means that this column is useless for prediction purposes (on its own)."
   ]
  },
  {
   "cell_type": "code",
   "execution_count": 17,
   "metadata": {},
   "outputs": [
    {
     "data": {
      "text/html": [
       "<div>\n",
       "<style scoped>\n",
       "    .dataframe tbody tr th:only-of-type {\n",
       "        vertical-align: middle;\n",
       "    }\n",
       "\n",
       "    .dataframe tbody tr th {\n",
       "        vertical-align: top;\n",
       "    }\n",
       "\n",
       "    .dataframe thead th {\n",
       "        text-align: right;\n",
       "    }\n",
       "</style>\n",
       "<table border=\"1\" class=\"dataframe\">\n",
       "  <thead>\n",
       "    <tr style=\"text-align: right;\">\n",
       "      <th></th>\n",
       "      <th>timestamp</th>\n",
       "      <th>user_id</th>\n",
       "      <th>post_id</th>\n",
       "      <th>target</th>\n",
       "    </tr>\n",
       "  </thead>\n",
       "  <tbody>\n",
       "    <tr>\n",
       "      <th>0</th>\n",
       "      <td>2021-12-05 12:37:52</td>\n",
       "      <td>126238</td>\n",
       "      <td>502</td>\n",
       "      <td>0</td>\n",
       "    </tr>\n",
       "    <tr>\n",
       "      <th>1</th>\n",
       "      <td>2021-12-05 12:40:08</td>\n",
       "      <td>126238</td>\n",
       "      <td>1008</td>\n",
       "      <td>0</td>\n",
       "    </tr>\n",
       "    <tr>\n",
       "      <th>2</th>\n",
       "      <td>2021-12-05 12:41:50</td>\n",
       "      <td>126238</td>\n",
       "      <td>1103</td>\n",
       "      <td>0</td>\n",
       "    </tr>\n",
       "    <tr>\n",
       "      <th>3</th>\n",
       "      <td>2021-12-05 12:44:26</td>\n",
       "      <td>126238</td>\n",
       "      <td>200</td>\n",
       "      <td>0</td>\n",
       "    </tr>\n",
       "    <tr>\n",
       "      <th>4</th>\n",
       "      <td>2021-12-05 12:46:34</td>\n",
       "      <td>126238</td>\n",
       "      <td>995</td>\n",
       "      <td>0</td>\n",
       "    </tr>\n",
       "  </tbody>\n",
       "</table>\n",
       "</div>"
      ],
      "text/plain": [
       "            timestamp  user_id  post_id  target\n",
       "0 2021-12-05 12:37:52   126238      502       0\n",
       "1 2021-12-05 12:40:08   126238     1008       0\n",
       "2 2021-12-05 12:41:50   126238     1103       0\n",
       "3 2021-12-05 12:44:26   126238      200       0\n",
       "4 2021-12-05 12:46:34   126238      995       0"
      ]
     },
     "execution_count": 17,
     "metadata": {},
     "output_type": "execute_result"
    }
   ],
   "source": [
    "# Acquiring feed data for training the model - a lot of data, so un-aggregated load would probably result in an error\n",
    "feed_data = pd.read_sql(\n",
    "    \"\"\"SELECT timestamp, user_id, post_id, target\n",
    "       FROM public.feed_data\n",
    "       WHERE action = 'view'\n",
    "       LIMIT 4000000\n",
    "    \"\"\",\n",
    "    con=connection\n",
    ")\n",
    "\n",
    "# Checking out the sample\n",
    "feed_data.head()"
   ]
  },
  {
   "cell_type": "markdown",
   "metadata": {},
   "source": [
    "### Merging data\n",
    "Ideally, this would be done on the SQL level - not on the model level. However, for this specific task - we'll do it here."
   ]
  },
  {
   "cell_type": "code",
   "execution_count": 18,
   "metadata": {},
   "outputs": [
    {
     "data": {
      "text/html": [
       "<div>\n",
       "<style scoped>\n",
       "    .dataframe tbody tr th:only-of-type {\n",
       "        vertical-align: middle;\n",
       "    }\n",
       "\n",
       "    .dataframe tbody tr th {\n",
       "        vertical-align: top;\n",
       "    }\n",
       "\n",
       "    .dataframe thead th {\n",
       "        text-align: right;\n",
       "    }\n",
       "</style>\n",
       "<table border=\"1\" class=\"dataframe\">\n",
       "  <thead>\n",
       "    <tr style=\"text-align: right;\">\n",
       "      <th></th>\n",
       "      <th>timestamp</th>\n",
       "      <th>user_id</th>\n",
       "      <th>post_id</th>\n",
       "      <th>target</th>\n",
       "      <th>gender</th>\n",
       "      <th>age</th>\n",
       "      <th>country</th>\n",
       "      <th>city</th>\n",
       "      <th>exp_group</th>\n",
       "      <th>os</th>\n",
       "      <th>source</th>\n",
       "      <th>unique_post_interactions</th>\n",
       "      <th>posts_liked</th>\n",
       "      <th>total_views</th>\n",
       "      <th>posts_liked_share</th>\n",
       "      <th>text</th>\n",
       "      <th>topic</th>\n",
       "      <th>post_length</th>\n",
       "    </tr>\n",
       "  </thead>\n",
       "  <tbody>\n",
       "    <tr>\n",
       "      <th>452869</th>\n",
       "      <td>2021-12-05 06:27:04</td>\n",
       "      <td>133317</td>\n",
       "      <td>81</td>\n",
       "      <td>0</td>\n",
       "      <td>0</td>\n",
       "      <td>20</td>\n",
       "      <td>Russia</td>\n",
       "      <td>Aleksandrovsk-Sakhalinskiy</td>\n",
       "      <td>0</td>\n",
       "      <td>Android</td>\n",
       "      <td>organic</td>\n",
       "      <td>544</td>\n",
       "      <td>44</td>\n",
       "      <td>573</td>\n",
       "      <td>0.080882</td>\n",
       "      <td>JP Morgan admits US slavery links\\n\\nThousands...</td>\n",
       "      <td>business</td>\n",
       "      <td>1451</td>\n",
       "    </tr>\n",
       "    <tr>\n",
       "      <th>3788425</th>\n",
       "      <td>2021-10-16 17:11:52</td>\n",
       "      <td>160078</td>\n",
       "      <td>4391</td>\n",
       "      <td>0</td>\n",
       "      <td>1</td>\n",
       "      <td>44</td>\n",
       "      <td>Russia</td>\n",
       "      <td>Sterlitamak</td>\n",
       "      <td>0</td>\n",
       "      <td>Android</td>\n",
       "      <td>organic</td>\n",
       "      <td>655</td>\n",
       "      <td>56</td>\n",
       "      <td>698</td>\n",
       "      <td>0.085496</td>\n",
       "      <td>A good film with--for its time--an intense, sp...</td>\n",
       "      <td>movie</td>\n",
       "      <td>937</td>\n",
       "    </tr>\n",
       "    <tr>\n",
       "      <th>180051</th>\n",
       "      <td>2021-11-28 21:12:57</td>\n",
       "      <td>126289</td>\n",
       "      <td>6999</td>\n",
       "      <td>1</td>\n",
       "      <td>1</td>\n",
       "      <td>38</td>\n",
       "      <td>Russia</td>\n",
       "      <td>Omsk</td>\n",
       "      <td>4</td>\n",
       "      <td>iOS</td>\n",
       "      <td>organic</td>\n",
       "      <td>366</td>\n",
       "      <td>35</td>\n",
       "      <td>378</td>\n",
       "      <td>0.095628</td>\n",
       "      <td>Mikio Naruses examination of the lives of thre...</td>\n",
       "      <td>movie</td>\n",
       "      <td>2137</td>\n",
       "    </tr>\n",
       "    <tr>\n",
       "      <th>2423310</th>\n",
       "      <td>2021-10-28 13:10:22</td>\n",
       "      <td>49685</td>\n",
       "      <td>1012</td>\n",
       "      <td>0</td>\n",
       "      <td>0</td>\n",
       "      <td>29</td>\n",
       "      <td>Russia</td>\n",
       "      <td>Bryansk</td>\n",
       "      <td>2</td>\n",
       "      <td>Android</td>\n",
       "      <td>ads</td>\n",
       "      <td>380</td>\n",
       "      <td>75</td>\n",
       "      <td>398</td>\n",
       "      <td>0.197368</td>\n",
       "      <td>Debate needed on donations cap\\n\\nA cap on don...</td>\n",
       "      <td>politics</td>\n",
       "      <td>2993</td>\n",
       "    </tr>\n",
       "    <tr>\n",
       "      <th>1324339</th>\n",
       "      <td>2021-11-08 11:52:10</td>\n",
       "      <td>133526</td>\n",
       "      <td>6337</td>\n",
       "      <td>0</td>\n",
       "      <td>0</td>\n",
       "      <td>15</td>\n",
       "      <td>Russia</td>\n",
       "      <td>Gusev</td>\n",
       "      <td>3</td>\n",
       "      <td>iOS</td>\n",
       "      <td>organic</td>\n",
       "      <td>173</td>\n",
       "      <td>16</td>\n",
       "      <td>178</td>\n",
       "      <td>0.092486</td>\n",
       "      <td>Sally and Saint Anne is a very funny movie. Th...</td>\n",
       "      <td>movie</td>\n",
       "      <td>750</td>\n",
       "    </tr>\n",
       "  </tbody>\n",
       "</table>\n",
       "</div>"
      ],
      "text/plain": [
       "                  timestamp  user_id  post_id  target  gender  age country  \\\n",
       "452869  2021-12-05 06:27:04   133317       81       0       0   20  Russia   \n",
       "3788425 2021-10-16 17:11:52   160078     4391       0       1   44  Russia   \n",
       "180051  2021-11-28 21:12:57   126289     6999       1       1   38  Russia   \n",
       "2423310 2021-10-28 13:10:22    49685     1012       0       0   29  Russia   \n",
       "1324339 2021-11-08 11:52:10   133526     6337       0       0   15  Russia   \n",
       "\n",
       "                               city  exp_group       os   source  \\\n",
       "452869   Aleksandrovsk-Sakhalinskiy          0  Android  organic   \n",
       "3788425                 Sterlitamak          0  Android  organic   \n",
       "180051                         Omsk          4      iOS  organic   \n",
       "2423310                     Bryansk          2  Android      ads   \n",
       "1324339                       Gusev          3      iOS  organic   \n",
       "\n",
       "         unique_post_interactions  posts_liked  total_views  \\\n",
       "452869                        544           44          573   \n",
       "3788425                       655           56          698   \n",
       "180051                        366           35          378   \n",
       "2423310                       380           75          398   \n",
       "1324339                       173           16          178   \n",
       "\n",
       "         posts_liked_share                                               text  \\\n",
       "452869            0.080882  JP Morgan admits US slavery links\\n\\nThousands...   \n",
       "3788425           0.085496  A good film with--for its time--an intense, sp...   \n",
       "180051            0.095628  Mikio Naruses examination of the lives of thre...   \n",
       "2423310           0.197368  Debate needed on donations cap\\n\\nA cap on don...   \n",
       "1324339           0.092486  Sally and Saint Anne is a very funny movie. Th...   \n",
       "\n",
       "            topic  post_length  \n",
       "452869   business         1451  \n",
       "3788425     movie          937  \n",
       "180051      movie         2137  \n",
       "2423310  politics         2993  \n",
       "1324339     movie          750  "
      ]
     },
     "execution_count": 18,
     "metadata": {},
     "output_type": "execute_result"
    }
   ],
   "source": [
    "# Merging\n",
    "data_total = feed_data.merge(user_data, how='left', on='user_id')\n",
    "data_total = data_total.merge(post_data, how='left', on='post_id')\n",
    "\n",
    "# Sample\n",
    "data_total.sample(5)"
   ]
  },
  {
   "cell_type": "markdown",
   "metadata": {},
   "source": [
    "## EDA\n",
    "General data analysis stage. Let's take a look at the data distribution - in their relation to the target."
   ]
  },
  {
   "cell_type": "code",
   "execution_count": 19,
   "metadata": {},
   "outputs": [
    {
     "data": {
      "image/png": "[encoded data removed]",
      "text/plain": [
       "<Figure size 600x200 with 1 Axes>"
      ]
     },
     "metadata": {},
     "output_type": "display_data"
    },
    {
     "data": {
      "image/png": "[encoded data removed]",
      "text/plain": [
       "<Figure size 600x200 with 1 Axes>"
      ]
     },
     "metadata": {},
     "output_type": "display_data"
    },
    {
     "data": {
      "image/png": "[encoded data removed]",
      "text/plain": [
       "<Figure size 600x200 with 1 Axes>"
      ]
     },
     "metadata": {},
     "output_type": "display_data"
    },
    {
     "data": {
      "image/png": "[encoded data removed]",
      "text/plain": [
       "<Figure size 600x200 with 1 Axes>"
      ]
     },
     "metadata": {},
     "output_type": "display_data"
    },
    {
     "data": {
      "image/png": "[encoded data removed]",
      "text/plain": [
       "<Figure size 600x200 with 1 Axes>"
      ]
     },
     "metadata": {},
     "output_type": "display_data"
    },
    {
     "data": {
      "image/png": "[encoded data removed]",
      "text/plain": [
       "<Figure size 600x200 with 1 Axes>"
      ]
     },
     "metadata": {},
     "output_type": "display_data"
    },
    {
     "data": {
      "image/png": "[encoded data removed]",
      "text/plain": [
       "<Figure size 600x200 with 1 Axes>"
      ]
     },
     "metadata": {},
     "output_type": "display_data"
    }
   ],
   "source": [
    "### Mean target by main categorical variables\n",
    "categorical_variables = ['gender', 'country', 'city', 'exp_group', 'os', 'source', 'topic']\n",
    "\n",
    "for col in categorical_variables:\n",
    "    target_table = data_total.groupby(col)['target'].mean()\n",
    "    target_table = target_table.sort_values()\n",
    "\n",
    "    fig = plt.figure()\n",
    "    fig.set_size_inches(6, 2)\n",
    "\n",
    "    plt.bar(target_table.index, target_table)\n",
    "    plt.title(f'Mean Target by: {col}')\n",
    "    plt.xticks(rotation=40)\n",
    "\n",
    "    plt.show()"
   ]
  },
  {
   "cell_type": "markdown",
   "metadata": {},
   "source": [
    "**What conclusions can we infer from this data?**\n",
    "1. There are substantial differences in most categorical variables - substantial enough to leave them and use in further analysis.\n",
    "2. `OS` and `Source` are the exceptions - no significant differences can be seen.\n",
    "3. Basic features enough are, most likely, not enough for good predictions. \n",
    "\n",
    "Let's **perform some additional transformations**:"
   ]
  },
  {
   "cell_type": "markdown",
   "metadata": {},
   "source": [
    "First of all - let's begin with time variables. Let's get the `year`, `month`, `weekday` and `hour` variables"
   ]
  },
  {
   "cell_type": "code",
   "execution_count": 20,
   "metadata": {},
   "outputs": [],
   "source": [
    "# Deriving the variables\n",
    "data_total['year'] = data_total['timestamp'].dt.year\n",
    "data_total['month'] = data_total['timestamp'].dt.month\n",
    "data_total['day'] = data_total['timestamp'].dt.day\n",
    "data_total['weekday'] = data_total['timestamp'].dt.weekday\n",
    "data_total['hour'] = data_total['timestamp'].dt.hour"
   ]
  },
  {
   "cell_type": "code",
   "execution_count": 21,
   "metadata": {},
   "outputs": [
    {
     "data": {
      "image/png": "[encoded data removed]",
      "text/plain": [
       "<Figure size 600x200 with 1 Axes>"
      ]
     },
     "metadata": {},
     "output_type": "display_data"
    },
    {
     "data": {
      "image/png": "[encoded data removed]",
      "text/plain": [
       "<Figure size 600x200 with 1 Axes>"
      ]
     },
     "metadata": {},
     "output_type": "display_data"
    },
    {
     "data": {
      "image/png": "[encoded data removed]",
      "text/plain": [
       "<Figure size 600x200 with 1 Axes>"
      ]
     },
     "metadata": {},
     "output_type": "display_data"
    },
    {
     "data": {
      "image/png": "[encoded data removed]",
      "text/plain": [
       "<Figure size 600x200 with 1 Axes>"
      ]
     },
     "metadata": {},
     "output_type": "display_data"
    },
    {
     "data": {
      "image/png": "[encoded data removed]",
      "text/plain": [
       "<Figure size 600x200 with 1 Axes>"
      ]
     },
     "metadata": {},
     "output_type": "display_data"
    }
   ],
   "source": [
    "# Visualize these columns:\n",
    "time_variables = ['year', 'month', 'day', 'weekday', 'hour']\n",
    "\n",
    "for col in time_variables:\n",
    "    target_table = data_total.groupby(col)['target'].mean()\n",
    "    target_table = target_table.sort_values()\n",
    "\n",
    "    fig = plt.figure()\n",
    "    fig.set_size_inches(6, 2)\n",
    "\n",
    "    plt.bar(target_table.index, target_table)\n",
    "    plt.title(f'Mean Target by: {col}')\n",
    "    plt.xticks(rotation=40)\n",
    "\n",
    "    plt.show()"
   ]
  },
  {
   "cell_type": "markdown",
   "metadata": {},
   "source": [
    "We can see some differences withing time variables. However, something weird happens with `year` and `month`. Let's take a closer look:"
   ]
  },
  {
   "cell_type": "code",
   "execution_count": 22,
   "metadata": {},
   "outputs": [
    {
     "data": {
      "text/plain": [
       "year\n",
       "2021    4000000\n",
       "Name: count, dtype: int64"
      ]
     },
     "execution_count": 22,
     "metadata": {},
     "output_type": "execute_result"
    }
   ],
   "source": [
    "# Value counts\n",
    "data_total['year'].value_counts()"
   ]
  },
  {
   "cell_type": "code",
   "execution_count": 23,
   "metadata": {},
   "outputs": [
    {
     "data": {
      "text/plain": [
       "month\n",
       "10    1368725\n",
       "11    1346055\n",
       "12    1285220\n",
       "Name: count, dtype: int64"
      ]
     },
     "execution_count": 23,
     "metadata": {},
     "output_type": "execute_result"
    }
   ],
   "source": [
    "# Value counts\n",
    "data_total['month'].value_counts()"
   ]
  },
  {
   "cell_type": "markdown",
   "metadata": {},
   "source": [
    "As we can see, there are only events from 2021 present. The `year` variable3 itself could be useful for research and modeling later on (when more data is available), but as of right now - it is useless.\n",
    "\n",
    "Let's drop it."
   ]
  },
  {
   "cell_type": "code",
   "execution_count": 24,
   "metadata": {},
   "outputs": [],
   "source": [
    "# Dropping the year \n",
    "data_total = data_total.drop('year', axis=1)"
   ]
  },
  {
   "cell_type": "markdown",
   "metadata": {},
   "source": [
    "Let's look at numerical variables next"
   ]
  },
  {
   "cell_type": "code",
   "execution_count": 25,
   "metadata": {},
   "outputs": [
    {
     "data": {
      "image/png": "[encoded data removed]",
      "text/plain": [
       "<Figure size 600x200 with 1 Axes>"
      ]
     },
     "metadata": {},
     "output_type": "display_data"
    },
    {
     "data": {
      "image/png": "[encoded data removed]",
      "text/plain": [
       "<Figure size 600x200 with 1 Axes>"
      ]
     },
     "metadata": {},
     "output_type": "display_data"
    },
    {
     "data": {
      "image/png": "[encoded data removed]",
      "text/plain": [
       "<Figure size 600x200 with 1 Axes>"
      ]
     },
     "metadata": {},
     "output_type": "display_data"
    },
    {
     "data": {
      "image/png": "[encoded data removed]",
      "text/plain": [
       "<Figure size 600x200 with 1 Axes>"
      ]
     },
     "metadata": {},
     "output_type": "display_data"
    },
    {
     "data": {
      "image/png": "[encoded data removed]",
      "text/plain": [
       "<Figure size 600x200 with 1 Axes>"
      ]
     },
     "metadata": {},
     "output_type": "display_data"
    }
   ],
   "source": [
    "### Mean target by main categorical variables\n",
    "numerical_variables = ['unique_post_interactions', 'posts_liked', 'total_views', 'posts_liked_share', 'post_length']\n",
    "\n",
    "for col in numerical_variables:\n",
    "    target_table = data_total.groupby('target')[col].mean()\n",
    "    target_table = target_table.sort_values()\n",
    "\n",
    "    fig = plt.figure()\n",
    "    fig.set_size_inches(6, 2)\n",
    "\n",
    "    plt.bar(target_table.index, target_table)\n",
    "    plt.title(f'Mean Target by: {col}')\n",
    "    plt.xticks(rotation=40)\n",
    "\n",
    "    plt.show()"
   ]
  },
  {
   "cell_type": "markdown",
   "metadata": {},
   "source": [
    "There is still a lot that can be done with that model - categorical variables (including the `exp_group` can and should be encoded) and there is whole array of possible ways to interact with the `text` column - NLP awaits.\n",
    "\n",
    "However, for now, let's establish a simple baseline - train the CatBoost model on the data as it requires the least prep-work.\n",
    "- Once it's done - we will optimize the data further and prepare other models - to compare their effectiveness and choose the best one."
   ]
  },
  {
   "cell_type": "markdown",
   "metadata": {},
   "source": [
    "## Baseline modeling - CatBoost"
   ]
  },
  {
   "cell_type": "markdown",
   "metadata": {},
   "source": [
    "First of all - let's split and prepare the data. Let's also ignore the text column - for now."
   ]
  },
  {
   "cell_type": "code",
   "execution_count": 22,
   "metadata": {},
   "outputs": [
    {
     "data": {
      "text/html": [
       "<div>\n",
       "<style scoped>\n",
       "    .dataframe tbody tr th:only-of-type {\n",
       "        vertical-align: middle;\n",
       "    }\n",
       "\n",
       "    .dataframe tbody tr th {\n",
       "        vertical-align: top;\n",
       "    }\n",
       "\n",
       "    .dataframe thead th {\n",
       "        text-align: right;\n",
       "    }\n",
       "</style>\n",
       "<table border=\"1\" class=\"dataframe\">\n",
       "  <thead>\n",
       "    <tr style=\"text-align: right;\">\n",
       "      <th></th>\n",
       "      <th>timestamp</th>\n",
       "      <th>user_id</th>\n",
       "      <th>post_id</th>\n",
       "      <th>target</th>\n",
       "      <th>gender</th>\n",
       "      <th>age</th>\n",
       "      <th>country</th>\n",
       "      <th>city</th>\n",
       "      <th>exp_group</th>\n",
       "      <th>os</th>\n",
       "      <th>...</th>\n",
       "      <th>posts_liked</th>\n",
       "      <th>total_views</th>\n",
       "      <th>posts_liked_share</th>\n",
       "      <th>text</th>\n",
       "      <th>topic</th>\n",
       "      <th>post_length</th>\n",
       "      <th>month</th>\n",
       "      <th>day</th>\n",
       "      <th>weekday</th>\n",
       "      <th>hour</th>\n",
       "    </tr>\n",
       "  </thead>\n",
       "  <tbody>\n",
       "    <tr>\n",
       "      <th>2885142</th>\n",
       "      <td>2021-10-03 16:21:10</td>\n",
       "      <td>86650</td>\n",
       "      <td>1754</td>\n",
       "      <td>0</td>\n",
       "      <td>1</td>\n",
       "      <td>23</td>\n",
       "      <td>Russia</td>\n",
       "      <td>Moscow</td>\n",
       "      <td>2</td>\n",
       "      <td>Android</td>\n",
       "      <td>...</td>\n",
       "      <td>24</td>\n",
       "      <td>170</td>\n",
       "      <td>0.142857</td>\n",
       "      <td>Tottenham bid &amp;#163;8m for Forest duo\\n\\nNotti...</td>\n",
       "      <td>sport</td>\n",
       "      <td>721</td>\n",
       "      <td>10</td>\n",
       "      <td>3</td>\n",
       "      <td>6</td>\n",
       "      <td>16</td>\n",
       "    </tr>\n",
       "    <tr>\n",
       "      <th>100487</th>\n",
       "      <td>2021-12-10 16:46:20</td>\n",
       "      <td>78554</td>\n",
       "      <td>5513</td>\n",
       "      <td>1</td>\n",
       "      <td>1</td>\n",
       "      <td>14</td>\n",
       "      <td>Russia</td>\n",
       "      <td>Murmansk</td>\n",
       "      <td>2</td>\n",
       "      <td>Android</td>\n",
       "      <td>...</td>\n",
       "      <td>105</td>\n",
       "      <td>649</td>\n",
       "      <td>0.173841</td>\n",
       "      <td>This movie was well done in all respects. The ...</td>\n",
       "      <td>movie</td>\n",
       "      <td>262</td>\n",
       "      <td>12</td>\n",
       "      <td>10</td>\n",
       "      <td>4</td>\n",
       "      <td>16</td>\n",
       "    </tr>\n",
       "    <tr>\n",
       "      <th>705208</th>\n",
       "      <td>2021-12-01 21:18:20</td>\n",
       "      <td>27317</td>\n",
       "      <td>1731</td>\n",
       "      <td>0</td>\n",
       "      <td>0</td>\n",
       "      <td>28</td>\n",
       "      <td>Russia</td>\n",
       "      <td>Prokhladnyy</td>\n",
       "      <td>4</td>\n",
       "      <td>Android</td>\n",
       "      <td>...</td>\n",
       "      <td>53</td>\n",
       "      <td>617</td>\n",
       "      <td>0.093972</td>\n",
       "      <td>Greek sprinters suspended by IAAF\\n\\nGreek spr...</td>\n",
       "      <td>sport</td>\n",
       "      <td>1568</td>\n",
       "      <td>12</td>\n",
       "      <td>1</td>\n",
       "      <td>2</td>\n",
       "      <td>21</td>\n",
       "    </tr>\n",
       "    <tr>\n",
       "      <th>2864374</th>\n",
       "      <td>2021-12-19 19:23:27</td>\n",
       "      <td>663</td>\n",
       "      <td>4184</td>\n",
       "      <td>0</td>\n",
       "      <td>0</td>\n",
       "      <td>23</td>\n",
       "      <td>Russia</td>\n",
       "      <td>Klimovsk</td>\n",
       "      <td>1</td>\n",
       "      <td>Android</td>\n",
       "      <td>...</td>\n",
       "      <td>40</td>\n",
       "      <td>527</td>\n",
       "      <td>0.078740</td>\n",
       "      <td>Whos to blame? Can we dismiss it as a Covid-19...</td>\n",
       "      <td>covid</td>\n",
       "      <td>136</td>\n",
       "      <td>12</td>\n",
       "      <td>19</td>\n",
       "      <td>6</td>\n",
       "      <td>19</td>\n",
       "    </tr>\n",
       "    <tr>\n",
       "      <th>2739069</th>\n",
       "      <td>2021-10-27 07:23:47</td>\n",
       "      <td>142002</td>\n",
       "      <td>3759</td>\n",
       "      <td>0</td>\n",
       "      <td>0</td>\n",
       "      <td>23</td>\n",
       "      <td>Russia</td>\n",
       "      <td>Bol’shiye Klyuchi</td>\n",
       "      <td>3</td>\n",
       "      <td>iOS</td>\n",
       "      <td>...</td>\n",
       "      <td>77</td>\n",
       "      <td>621</td>\n",
       "      <td>0.131175</td>\n",
       "      <td>Please include #S3599 in your next #Covid19 re...</td>\n",
       "      <td>covid</td>\n",
       "      <td>126</td>\n",
       "      <td>10</td>\n",
       "      <td>27</td>\n",
       "      <td>2</td>\n",
       "      <td>7</td>\n",
       "    </tr>\n",
       "  </tbody>\n",
       "</table>\n",
       "<p>5 rows × 22 columns</p>\n",
       "</div>"
      ],
      "text/plain": [
       "                  timestamp  user_id  post_id  target  gender  age country  \\\n",
       "2885142 2021-10-03 16:21:10    86650     1754       0       1   23  Russia   \n",
       "100487  2021-12-10 16:46:20    78554     5513       1       1   14  Russia   \n",
       "705208  2021-12-01 21:18:20    27317     1731       0       0   28  Russia   \n",
       "2864374 2021-12-19 19:23:27      663     4184       0       0   23  Russia   \n",
       "2739069 2021-10-27 07:23:47   142002     3759       0       0   23  Russia   \n",
       "\n",
       "                      city  exp_group       os  ... posts_liked  total_views  \\\n",
       "2885142             Moscow          2  Android  ...          24          170   \n",
       "100487            Murmansk          2  Android  ...         105          649   \n",
       "705208         Prokhladnyy          4  Android  ...          53          617   \n",
       "2864374           Klimovsk          1  Android  ...          40          527   \n",
       "2739069  Bol’shiye Klyuchi          3      iOS  ...          77          621   \n",
       "\n",
       "         posts_liked_share                                               text  \\\n",
       "2885142           0.142857  Tottenham bid &#163;8m for Forest duo\\n\\nNotti...   \n",
       "100487            0.173841  This movie was well done in all respects. The ...   \n",
       "705208            0.093972  Greek sprinters suspended by IAAF\\n\\nGreek spr...   \n",
       "2864374           0.078740  Whos to blame? Can we dismiss it as a Covid-19...   \n",
       "2739069           0.131175  Please include #S3599 in your next #Covid19 re...   \n",
       "\n",
       "         topic post_length month  day  weekday  hour  \n",
       "2885142  sport         721    10    3        6    16  \n",
       "100487   movie         262    12   10        4    16  \n",
       "705208   sport        1568    12    1        2    21  \n",
       "2864374  covid         136    12   19        6    19  \n",
       "2739069  covid         126    10   27        2     7  \n",
       "\n",
       "[5 rows x 22 columns]"
      ]
     },
     "execution_count": 22,
     "metadata": {},
     "output_type": "execute_result"
    }
   ],
   "source": [
    "# What are we working with at this point\n",
    "data_total.sample(5)"
   ]
  },
  {
   "cell_type": "code",
   "execution_count": 23,
   "metadata": {},
   "outputs": [
    {
     "name": "stdout",
     "output_type": "stream",
     "text": [
      "<class 'pandas.core.frame.DataFrame'>\n",
      "Int64Index: 4000000 entries, 0 to 3999999\n",
      "Data columns (total 22 columns):\n",
      " #   Column                    Dtype         \n",
      "---  ------                    -----         \n",
      " 0   timestamp                 datetime64[ns]\n",
      " 1   user_id                   int64         \n",
      " 2   post_id                   int64         \n",
      " 3   target                    int64         \n",
      " 4   gender                    int64         \n",
      " 5   age                       int64         \n",
      " 6   country                   object        \n",
      " 7   city                      object        \n",
      " 8   exp_group                 int64         \n",
      " 9   os                        object        \n",
      " 10  source                    object        \n",
      " 11  unique_post_interactions  int64         \n",
      " 12  posts_liked               int64         \n",
      " 13  total_views               int64         \n",
      " 14  posts_liked_share         float64       \n",
      " 15  text                      object        \n",
      " 16  topic                     object        \n",
      " 17  post_length               int64         \n",
      " 18  month                     int64         \n",
      " 19  day                       int64         \n",
      " 20  weekday                   int64         \n",
      " 21  hour                      int64         \n",
      "dtypes: datetime64[ns](1), float64(1), int64(14), object(6)\n",
      "memory usage: 701.9+ MB\n"
     ]
    }
   ],
   "source": [
    "# Info about the dataset at this point\n",
    "data_total.info()"
   ]
  },
  {
   "cell_type": "code",
   "execution_count": 24,
   "metadata": {},
   "outputs": [],
   "source": [
    "# Getting the copy with needed data\n",
    "X = data_total.drop(['timestamp', 'target', 'user_id', 'post_id'], axis=1).copy()\n",
    "y = data_total['target'].copy()\n",
    "\n",
    "# Splitting the data\n",
    "X_train, X_test, y_train, y_test = train_test_split(X, y, \n",
    "                                                    shuffle=True,\n",
    "                                                    test_size=0.2,\n",
    "                                                    stratify=y)"
   ]
  },
  {
   "cell_type": "code",
   "execution_count": 20,
   "metadata": {},
   "outputs": [
    {
     "name": "stdout",
     "output_type": "stream",
     "text": [
      "<class 'pandas.core.frame.DataFrame'>\n",
      "Int64Index: 3200000 entries, 1851685 to 140220\n",
      "Data columns (total 18 columns):\n",
      " #   Column                    Dtype  \n",
      "---  ------                    -----  \n",
      " 0   gender                    int64  \n",
      " 1   age                       int64  \n",
      " 2   country                   object \n",
      " 3   city                      object \n",
      " 4   exp_group                 int64  \n",
      " 5   os                        object \n",
      " 6   source                    object \n",
      " 7   unique_post_interactions  int64  \n",
      " 8   posts_liked               int64  \n",
      " 9   total_views               int64  \n",
      " 10  posts_liked_share         float64\n",
      " 11  text                      object \n",
      " 12  topic                     object \n",
      " 13  post_length               int64  \n",
      " 14  month                     int64  \n",
      " 15  day                       int64  \n",
      " 16  weekday                   int64  \n",
      " 17  hour                      int64  \n",
      "dtypes: float64(1), int64(11), object(6)\n",
      "memory usage: 463.9+ MB\n"
     ]
    }
   ],
   "source": [
    "# Columns to process\n",
    "X_train.info()"
   ]
  },
  {
   "cell_type": "code",
   "execution_count": 29,
   "metadata": {},
   "outputs": [
    {
     "data": {
      "application/vnd.jupyter.widget-view+json": {
       "model_id": "6dfea1011ec245ec908e9791eadc396f",
       "version_major": 2,
       "version_minor": 0
      },
      "text/plain": [
       "MetricVisualizer(layout=Layout(align_self='stretch', height='500px'))"
      ]
     },
     "metadata": {},
     "output_type": "display_data"
    },
    {
     "name": "stdout",
     "output_type": "stream",
     "text": [
      "Learning rate set to 0.232638\n",
      "0:\ttest: 0.6342269\tbest: 0.6342269 (0)\ttotal: 38.9s\tremaining: 10h 48m 30s\n",
      "100:\ttest: 0.6910616\tbest: 0.6910616 (100)\ttotal: 11m 17s\tremaining: 1h 40m 29s\n",
      "200:\ttest: 0.6997720\tbest: 0.6997720 (200)\ttotal: 19m 11s\tremaining: 1h 16m 17s\n",
      "300:\ttest: 0.7045266\tbest: 0.7045266 (300)\ttotal: 27m 30s\tremaining: 1h 3m 54s\n",
      "400:\ttest: 0.7068068\tbest: 0.7068068 (400)\ttotal: 35m 40s\tremaining: 53m 16s\n",
      "500:\ttest: 0.7083784\tbest: 0.7083784 (500)\ttotal: 43m 38s\tremaining: 43m 27s\n",
      "600:\ttest: 0.7096210\tbest: 0.7096279 (598)\ttotal: 51m 27s\tremaining: 34m 9s\n",
      "700:\ttest: 0.7103100\tbest: 0.7103305 (697)\ttotal: 59m 23s\tremaining: 25m 19s\n",
      "800:\ttest: 0.7109084\tbest: 0.7109250 (788)\ttotal: 1h 7m 41s\tremaining: 16m 49s\n",
      "900:\ttest: 0.7113567\tbest: 0.7113567 (900)\ttotal: 1h 15m 47s\tremaining: 8m 19s\n",
      "999:\ttest: 0.7115408\tbest: 0.7115408 (999)\ttotal: 1h 23m 45s\tremaining: 0us\n",
      "\n",
      "bestTest = 0.7115408017\n",
      "bestIteration = 999\n",
      "\n"
     ]
    },
    {
     "data": {
      "text/plain": [
       "<catboost.core.CatBoostClassifier at 0x150121978b0>"
      ]
     },
     "execution_count": 29,
     "metadata": {},
     "output_type": "execute_result"
    }
   ],
   "source": [
    "# Fitting and training the baseline model\n",
    "cat_features = ['gender', 'country', 'city', 'exp_group', 'os', 'source', 'topic', 'weekday']\n",
    "text_features = ['text']\n",
    "\n",
    "# Preparing and fitting the model\n",
    "catboost_model = CatBoostClassifier(eval_metric='AUC')\n",
    "catboost_model.fit(X_train, y_train,\n",
    "                   cat_features=cat_features,\n",
    "                   text_features=text_features,\n",
    "                   eval_set=[(X_test, y_test)],\n",
    "                   use_best_model=True,\n",
    "                   verbose=100,\n",
    "                   plot=True)"
   ]
  },
  {
   "cell_type": "markdown",
   "metadata": {},
   "source": [
    "Let's calculate the `hitrate@5` metric for this model:\n",
    "- NOTE: The required value of this metric is 0.52"
   ]
  },
  {
   "cell_type": "code",
   "execution_count": 31,
   "metadata": {},
   "outputs": [],
   "source": [
    "# Calculating the metric in question\n",
    "def calculate_metric(model, df_features, df_targets, global_df=data_total):\n",
    "    # Preparing metric DF\n",
    "    ## Making predictions - in probabilities:\n",
    "    results = model.predict_proba(df_features)[:,1]\n",
    "\n",
    "    ## Creating a dataset with all neccessary values\n",
    "    resulting_metric_df = df_features.copy()\n",
    "    resulting_metric_df['pred'] = results\n",
    "    resulting_metric_df['target'] = df_targets\n",
    "\n",
    "    ## Merging data on user and post_ids\n",
    "    resulting_metric_df = resulting_metric_df.join(global_df[['user_id', 'post_id']])\n",
    "\n",
    "    ## Dropping unneccessary columns:\n",
    "    resulting_metric_df = resulting_metric_df[['user_id', 'post_id', 'target', 'pred']]\n",
    "\n",
    "    # Metric calculation\n",
    "    ## Step 1: Group by user_id and for each user, get the top 5 post_ids by pred\n",
    "    top_5_posts_per_user = (resulting_metric_df.groupby('user_id').apply(\n",
    "        lambda x: x.nlargest(5, 'pred')).reset_index(drop=True)  # Get top 5 rows by pred for each user\n",
    "    )\n",
    "    \n",
    "    ## Step 2: For each group of top 5 posts, check if any of the target values is 1\n",
    "    user_metric = top_5_posts_per_user.groupby('user_id')['target'].apply(\n",
    "        lambda x: 1 if x.eq(1).any() else 0\n",
    "    )\n",
    "    \n",
    "    ## Step 3: Calculate the final metric as the mean of the user metrics\n",
    "    final_metric = user_metric.mean()\n",
    "    \n",
    "    return final_metric"
   ]
  },
  {
   "cell_type": "code",
   "execution_count": 32,
   "metadata": {},
   "outputs": [
    {
     "name": "stdout",
     "output_type": "stream",
     "text": [
      "Final Metric: 0.6769019731982695\n"
     ]
    }
   ],
   "source": [
    "# Let's calculate the metric for the current dataset\n",
    "final_metric = calculate_metric(catboost_model, X_test, y_test)\n",
    "print(f\"Final Metric: {final_metric}\")"
   ]
  },
  {
   "cell_type": "markdown",
   "metadata": {},
   "source": [
    "An amazing result - the baseline catboost model without any additional tuning or text pre-processing trained on limited data provided already provides us with the required metric value. Let's try working with that model."
   ]
  },
  {
   "cell_type": "code",
   "execution_count": 33,
   "metadata": {},
   "outputs": [],
   "source": [
    "# Saving the model\n",
    "catboost_model.save_model('catboost_model',\n",
    "                           format=\"cbm\")"
   ]
  },
  {
   "cell_type": "markdown",
   "metadata": {},
   "source": [
    "## Data Uploading\n",
    "\n",
    "Let's load the user-level data into a separate DB - as the task requires.\n",
    "\n",
    "First of all - we need to prepare it. Luckily, we have already loaded that data into the `user_data` dataframe."
   ]
  },
  {
   "cell_type": "code",
   "execution_count": null,
   "metadata": {},
   "outputs": [],
   "source": [
    "# Dropping the already existing table\n",
    "pd.read_sql(\n",
    "    \"\"\" DROP TABLE recommendation_service_features\n",
    "    \"\"\",\n",
    "    con=connection\n",
    ")"
   ]
  },
  {
   "cell_type": "code",
   "execution_count": 27,
   "metadata": {},
   "outputs": [
    {
     "data": {
      "text/html": [
       "<div>\n",
       "<style scoped>\n",
       "    .dataframe tbody tr th:only-of-type {\n",
       "        vertical-align: middle;\n",
       "    }\n",
       "\n",
       "    .dataframe tbody tr th {\n",
       "        vertical-align: top;\n",
       "    }\n",
       "\n",
       "    .dataframe thead th {\n",
       "        text-align: right;\n",
       "    }\n",
       "</style>\n",
       "<table border=\"1\" class=\"dataframe\">\n",
       "  <thead>\n",
       "    <tr style=\"text-align: right;\">\n",
       "      <th></th>\n",
       "      <th>user_id</th>\n",
       "      <th>gender</th>\n",
       "      <th>age</th>\n",
       "      <th>country</th>\n",
       "      <th>city</th>\n",
       "      <th>exp_group</th>\n",
       "      <th>os</th>\n",
       "      <th>source</th>\n",
       "      <th>unique_post_interactions</th>\n",
       "      <th>posts_liked</th>\n",
       "      <th>total_views</th>\n",
       "      <th>posts_liked_share</th>\n",
       "    </tr>\n",
       "  </thead>\n",
       "  <tbody>\n",
       "    <tr>\n",
       "      <th>126685</th>\n",
       "      <td>132015</td>\n",
       "      <td>0</td>\n",
       "      <td>15</td>\n",
       "      <td>Russia</td>\n",
       "      <td>Sharan</td>\n",
       "      <td>4</td>\n",
       "      <td>Android</td>\n",
       "      <td>organic</td>\n",
       "      <td>260</td>\n",
       "      <td>15</td>\n",
       "      <td>271</td>\n",
       "      <td>0.057692</td>\n",
       "    </tr>\n",
       "    <tr>\n",
       "      <th>19835</th>\n",
       "      <td>20046</td>\n",
       "      <td>1</td>\n",
       "      <td>27</td>\n",
       "      <td>Russia</td>\n",
       "      <td>Moscow</td>\n",
       "      <td>4</td>\n",
       "      <td>Android</td>\n",
       "      <td>ads</td>\n",
       "      <td>668</td>\n",
       "      <td>105</td>\n",
       "      <td>708</td>\n",
       "      <td>0.157186</td>\n",
       "    </tr>\n",
       "    <tr>\n",
       "      <th>16879</th>\n",
       "      <td>17089</td>\n",
       "      <td>1</td>\n",
       "      <td>23</td>\n",
       "      <td>Russia</td>\n",
       "      <td>Makhachkala</td>\n",
       "      <td>0</td>\n",
       "      <td>Android</td>\n",
       "      <td>ads</td>\n",
       "      <td>354</td>\n",
       "      <td>39</td>\n",
       "      <td>360</td>\n",
       "      <td>0.110169</td>\n",
       "    </tr>\n",
       "  </tbody>\n",
       "</table>\n",
       "</div>"
      ],
      "text/plain": [
       "        user_id  gender  age country         city  exp_group       os  \\\n",
       "126685   132015       0   15  Russia       Sharan          4  Android   \n",
       "19835     20046       1   27  Russia       Moscow          4  Android   \n",
       "16879     17089       1   23  Russia  Makhachkala          0  Android   \n",
       "\n",
       "         source  unique_post_interactions  posts_liked  total_views  \\\n",
       "126685  organic                       260           15          271   \n",
       "19835       ads                       668          105          708   \n",
       "16879       ads                       354           39          360   \n",
       "\n",
       "        posts_liked_share  \n",
       "126685           0.057692  \n",
       "19835            0.157186  \n",
       "16879            0.110169  "
      ]
     },
     "execution_count": 27,
     "metadata": {},
     "output_type": "execute_result"
    }
   ],
   "source": [
    "# Specify data types\n",
    "user_data['user_id'] = user_data['user_id'].astype(int)  # int64\n",
    "user_data['gender'] = user_data['gender'].astype(int)  # int64\n",
    "user_data['age'] = user_data['age'].astype(int)  # int64\n",
    "user_data['country'] = user_data['country'].astype(str)  # varchar\n",
    "user_data['city'] = user_data['city'].astype(str)  # varchar\n",
    "user_data['exp_group'] = user_data['exp_group'].astype(int)  # int64\n",
    "user_data['os'] = user_data['os'].astype(str)  # varchar\n",
    "user_data['source'] = user_data['source'].astype(str)  # varchar\n",
    "user_data['unique_post_interactions'] = user_data['unique_post_interactions'].astype(int)  # int64\n",
    "user_data['posts_liked'] = user_data['posts_liked'].astype(int)  # int64\n",
    "user_data['total_views'] = user_data['total_views'].astype(int)  # int64\n",
    "user_data['posts_liked_share'] = user_data['posts_liked_share'].astype(float)  # float\n",
    "\n",
    "# Reorder data\n",
    "upload_user_data = user_data[['user_id', 'gender', 'age', 'country', 'city', 'exp_group', 'os', 'source', 'unique_post_interactions', 'posts_liked', 'total_views', 'posts_liked_share']]\n",
    "\n",
    "# Sample\n",
    "upload_user_data.sample(3)"
   ]
  },
  {
   "cell_type": "code",
   "execution_count": 28,
   "metadata": {},
   "outputs": [
    {
     "name": "stdout",
     "output_type": "stream",
     "text": [
      "Part 1/164 loaded successfully.\n",
      "Part 2/164 loaded successfully.\n",
      "Part 3/164 loaded successfully.\n",
      "Part 4/164 loaded successfully.\n",
      "Part 5/164 loaded successfully.\n",
      "Part 6/164 loaded successfully.\n",
      "Part 7/164 loaded successfully.\n",
      "Part 8/164 loaded successfully.\n",
      "Part 9/164 loaded successfully.\n",
      "Part 10/164 loaded successfully.\n",
      "Part 11/164 loaded successfully.\n",
      "Part 12/164 loaded successfully.\n",
      "Part 13/164 loaded successfully.\n",
      "Part 14/164 loaded successfully.\n",
      "Part 15/164 loaded successfully.\n",
      "Part 16/164 loaded successfully.\n",
      "Part 17/164 loaded successfully.\n",
      "Part 18/164 loaded successfully.\n",
      "Part 19/164 loaded successfully.\n",
      "Part 20/164 loaded successfully.\n",
      "Part 21/164 loaded successfully.\n",
      "Part 22/164 loaded successfully.\n",
      "Part 23/164 loaded successfully.\n",
      "Part 24/164 loaded successfully.\n",
      "Part 25/164 loaded successfully.\n",
      "Part 26/164 loaded successfully.\n",
      "Part 27/164 loaded successfully.\n",
      "Part 28/164 loaded successfully.\n",
      "Part 29/164 loaded successfully.\n",
      "Part 30/164 loaded successfully.\n",
      "Part 31/164 loaded successfully.\n",
      "Part 32/164 loaded successfully.\n",
      "Part 33/164 loaded successfully.\n",
      "Part 34/164 loaded successfully.\n",
      "Part 35/164 loaded successfully.\n",
      "Part 36/164 loaded successfully.\n",
      "Part 37/164 loaded successfully.\n",
      "Part 38/164 loaded successfully.\n",
      "Part 39/164 loaded successfully.\n",
      "Part 40/164 loaded successfully.\n",
      "Part 41/164 loaded successfully.\n",
      "Part 42/164 loaded successfully.\n",
      "Part 43/164 loaded successfully.\n",
      "Part 44/164 loaded successfully.\n",
      "Part 45/164 loaded successfully.\n",
      "Part 46/164 loaded successfully.\n",
      "Part 47/164 loaded successfully.\n",
      "Part 48/164 loaded successfully.\n",
      "Part 49/164 loaded successfully.\n",
      "Part 50/164 loaded successfully.\n",
      "Part 51/164 loaded successfully.\n",
      "Part 52/164 loaded successfully.\n",
      "Part 53/164 loaded successfully.\n",
      "Part 54/164 loaded successfully.\n",
      "Part 55/164 loaded successfully.\n",
      "Part 56/164 loaded successfully.\n",
      "Part 57/164 loaded successfully.\n",
      "Part 58/164 loaded successfully.\n",
      "Part 59/164 loaded successfully.\n",
      "Part 60/164 loaded successfully.\n",
      "Part 61/164 loaded successfully.\n",
      "Part 62/164 loaded successfully.\n",
      "Part 63/164 loaded successfully.\n",
      "Part 64/164 loaded successfully.\n",
      "Part 65/164 loaded successfully.\n",
      "Part 66/164 loaded successfully.\n",
      "Part 67/164 loaded successfully.\n",
      "Part 68/164 loaded successfully.\n",
      "Part 69/164 loaded successfully.\n",
      "Part 70/164 loaded successfully.\n",
      "Part 71/164 loaded successfully.\n",
      "Part 72/164 loaded successfully.\n",
      "Part 73/164 loaded successfully.\n",
      "Part 74/164 loaded successfully.\n",
      "Part 75/164 loaded successfully.\n",
      "Part 76/164 loaded successfully.\n",
      "Part 77/164 loaded successfully.\n",
      "Part 78/164 loaded successfully.\n",
      "Part 79/164 loaded successfully.\n",
      "Part 80/164 loaded successfully.\n",
      "Part 81/164 loaded successfully.\n",
      "Part 82/164 loaded successfully.\n",
      "Part 83/164 loaded successfully.\n",
      "Part 84/164 loaded successfully.\n",
      "Part 85/164 loaded successfully.\n",
      "Part 86/164 loaded successfully.\n",
      "Part 87/164 loaded successfully.\n",
      "Part 88/164 loaded successfully.\n",
      "Part 89/164 loaded successfully.\n",
      "Part 90/164 loaded successfully.\n",
      "Part 91/164 loaded successfully.\n",
      "Part 92/164 loaded successfully.\n",
      "Part 93/164 loaded successfully.\n",
      "Part 94/164 loaded successfully.\n",
      "Part 95/164 loaded successfully.\n",
      "Part 96/164 loaded successfully.\n",
      "Part 97/164 loaded successfully.\n",
      "Part 98/164 loaded successfully.\n",
      "Part 99/164 loaded successfully.\n",
      "Part 100/164 loaded successfully.\n",
      "Part 101/164 loaded successfully.\n",
      "Part 102/164 loaded successfully.\n",
      "Part 103/164 loaded successfully.\n",
      "Part 104/164 loaded successfully.\n",
      "Part 105/164 loaded successfully.\n",
      "Part 106/164 loaded successfully.\n",
      "Part 107/164 loaded successfully.\n",
      "Part 108/164 loaded successfully.\n",
      "Part 109/164 loaded successfully.\n",
      "Part 110/164 loaded successfully.\n",
      "Part 111/164 loaded successfully.\n",
      "Part 112/164 loaded successfully.\n",
      "Part 113/164 loaded successfully.\n",
      "Part 114/164 loaded successfully.\n",
      "Part 115/164 loaded successfully.\n",
      "Part 116/164 loaded successfully.\n",
      "Part 117/164 loaded successfully.\n",
      "Part 118/164 loaded successfully.\n",
      "Part 119/164 loaded successfully.\n",
      "Part 120/164 loaded successfully.\n",
      "Part 121/164 loaded successfully.\n",
      "Part 122/164 loaded successfully.\n",
      "Part 123/164 loaded successfully.\n",
      "Part 124/164 loaded successfully.\n",
      "Part 125/164 loaded successfully.\n",
      "Part 126/164 loaded successfully.\n",
      "Part 127/164 loaded successfully.\n",
      "Part 128/164 loaded successfully.\n",
      "Part 129/164 loaded successfully.\n",
      "Part 130/164 loaded successfully.\n",
      "Part 131/164 loaded successfully.\n",
      "Part 132/164 loaded successfully.\n",
      "Part 133/164 loaded successfully.\n",
      "Part 134/164 loaded successfully.\n",
      "Part 135/164 loaded successfully.\n",
      "Part 136/164 loaded successfully.\n",
      "Part 137/164 loaded successfully.\n",
      "Part 138/164 loaded successfully.\n",
      "Part 139/164 loaded successfully.\n",
      "Part 140/164 loaded successfully.\n",
      "Part 141/164 loaded successfully.\n",
      "Part 142/164 loaded successfully.\n",
      "Part 143/164 loaded successfully.\n",
      "Part 144/164 loaded successfully.\n",
      "Part 145/164 loaded successfully.\n",
      "Part 146/164 loaded successfully.\n",
      "Part 147/164 loaded successfully.\n",
      "Part 148/164 loaded successfully.\n",
      "Part 149/164 loaded successfully.\n",
      "Part 150/164 loaded successfully.\n",
      "Part 151/164 loaded successfully.\n",
      "Part 152/164 loaded successfully.\n",
      "Part 153/164 loaded successfully.\n",
      "Part 154/164 loaded successfully.\n",
      "Part 155/164 loaded successfully.\n",
      "Part 156/164 loaded successfully.\n",
      "Part 157/164 loaded successfully.\n",
      "Part 158/164 loaded successfully.\n",
      "Part 159/164 loaded successfully.\n",
      "Part 160/164 loaded successfully.\n",
      "Part 161/164 loaded successfully.\n",
      "Part 162/164 loaded successfully.\n",
      "Part 163/164 loaded successfully.\n",
      "Part 164/164 loaded successfully.\n"
     ]
    }
   ],
   "source": [
    "# Creating engine\n",
    "engine = create_engine(connection)\n",
    "\n",
    "# Loading data unto the server with retries\n",
    "def load_data_with_retries(df, table_name, chunk_size=1000, retries=100, delay=1):\n",
    "    total_chunks = len(df) // chunk_size + (1 if len(df) % chunk_size > 0 else 0)\n",
    "    \n",
    "    for chunk_index in range(total_chunks):\n",
    "        chunk = df.iloc[chunk_index * chunk_size:(chunk_index + 1) * chunk_size]\n",
    "        \n",
    "        for attempt in range(retries):\n",
    "            try:\n",
    "                chunk.to_sql(table_name, con=engine, if_exists='append', index=False)\n",
    "                print(f\"Part {chunk_index + 1}/{total_chunks} loaded successfully.\")\n",
    "                break  # If attempt is successful - exit the cycle\n",
    "            except Exception as e:\n",
    "                print(f\"Error when loading part {chunk_index + 1}: {e}\")\n",
    "                if attempt < retries - 1:  # Not the last try\n",
    "                    print(f\"Re-attempting to load part {chunk_index + 1} after {delay} seconds...\")\n",
    "                    time.sleep(delay)  # Waiting before trying again\n",
    "                else:\n",
    "                    print(f\"All attempts to load part {chunk_index + 1} have failed.\")\n",
    "                    break  # If all attempts failed - stop data upload\n",
    "\n",
    "# Загрузка данных\n",
    "load_data_with_retries(upload_user_data, 'recommendation_service_features')"
   ]
  },
  {
   "cell_type": "code",
   "execution_count": 41,
   "metadata": {},
   "outputs": [
    {
     "data": {
      "text/html": [
       "<div>\n",
       "<style scoped>\n",
       "    .dataframe tbody tr th:only-of-type {\n",
       "        vertical-align: middle;\n",
       "    }\n",
       "\n",
       "    .dataframe tbody tr th {\n",
       "        vertical-align: top;\n",
       "    }\n",
       "\n",
       "    .dataframe thead th {\n",
       "        text-align: right;\n",
       "    }\n",
       "</style>\n",
       "<table border=\"1\" class=\"dataframe\">\n",
       "  <thead>\n",
       "    <tr style=\"text-align: right;\">\n",
       "      <th></th>\n",
       "      <th>gender</th>\n",
       "      <th>age</th>\n",
       "      <th>country</th>\n",
       "      <th>city</th>\n",
       "      <th>exp_group</th>\n",
       "      <th>os</th>\n",
       "      <th>source</th>\n",
       "      <th>unique_post_interactions</th>\n",
       "      <th>posts_liked</th>\n",
       "      <th>total_views</th>\n",
       "      <th>posts_liked_share</th>\n",
       "      <th>text</th>\n",
       "      <th>topic</th>\n",
       "      <th>post_length</th>\n",
       "      <th>month</th>\n",
       "      <th>day</th>\n",
       "      <th>weekday</th>\n",
       "      <th>hour</th>\n",
       "    </tr>\n",
       "  </thead>\n",
       "  <tbody>\n",
       "    <tr>\n",
       "      <th>2268327</th>\n",
       "      <td>1</td>\n",
       "      <td>28</td>\n",
       "      <td>Russia</td>\n",
       "      <td>Novoaltaysk</td>\n",
       "      <td>0</td>\n",
       "      <td>Android</td>\n",
       "      <td>ads</td>\n",
       "      <td>520</td>\n",
       "      <td>47</td>\n",
       "      <td>549</td>\n",
       "      <td>0.090385</td>\n",
       "      <td>New yob targets to be unveiled\\n\\nFifty new ar...</td>\n",
       "      <td>politics</td>\n",
       "      <td>2443</td>\n",
       "      <td>11</td>\n",
       "      <td>29</td>\n",
       "      <td>0</td>\n",
       "      <td>12</td>\n",
       "    </tr>\n",
       "    <tr>\n",
       "      <th>3767887</th>\n",
       "      <td>0</td>\n",
       "      <td>15</td>\n",
       "      <td>Russia</td>\n",
       "      <td>Izhevsk</td>\n",
       "      <td>0</td>\n",
       "      <td>Android</td>\n",
       "      <td>ads</td>\n",
       "      <td>585</td>\n",
       "      <td>35</td>\n",
       "      <td>628</td>\n",
       "      <td>0.059829</td>\n",
       "      <td>/WATCH/READ/ #Medical #tech, #healthcare #star...</td>\n",
       "      <td>covid</td>\n",
       "      <td>136</td>\n",
       "      <td>10</td>\n",
       "      <td>12</td>\n",
       "      <td>1</td>\n",
       "      <td>6</td>\n",
       "    </tr>\n",
       "  </tbody>\n",
       "</table>\n",
       "</div>"
      ],
      "text/plain": [
       "         gender  age country         city  exp_group       os source  \\\n",
       "2268327       1   28  Russia  Novoaltaysk          0  Android    ads   \n",
       "3767887       0   15  Russia      Izhevsk          0  Android    ads   \n",
       "\n",
       "         unique_post_interactions  posts_liked  total_views  \\\n",
       "2268327                       520           47          549   \n",
       "3767887                       585           35          628   \n",
       "\n",
       "         posts_liked_share                                               text  \\\n",
       "2268327           0.090385  New yob targets to be unveiled\\n\\nFifty new ar...   \n",
       "3767887           0.059829  /WATCH/READ/ #Medical #tech, #healthcare #star...   \n",
       "\n",
       "            topic  post_length  month  day  weekday  hour  \n",
       "2268327  politics         2443     11   29        0    12  \n",
       "3767887     covid          136     10   12        1     6  "
      ]
     },
     "execution_count": 41,
     "metadata": {},
     "output_type": "execute_result"
    }
   ],
   "source": [
    "X_train.sample(2)"
   ]
  },
  {
   "cell_type": "markdown",
   "metadata": {},
   "source": [
    "## Basic testing\n",
    "\n",
    "Let's check out the results - see if everything works as intended"
   ]
  },
  {
   "cell_type": "code",
   "execution_count": 61,
   "metadata": {},
   "outputs": [],
   "source": [
    "# Select proper user\n",
    "user_data_curr = user_data[user_data['user_id'] == 149436]\n",
    "\n",
    "# Concatenating user_data info to every post\n",
    "post_data['gender'] = user_data_curr.iloc[0]['gender']\n",
    "post_data['age'] = user_data_curr.iloc[0]['age']\n",
    "post_data['country'] = user_data_curr.iloc[0]['country']\n",
    "post_data['city'] = user_data_curr.iloc[0]['city']\n",
    "post_data['exp_group'] = user_data_curr.iloc[0]['exp_group']\n",
    "post_data['os'] = user_data_curr.iloc[0]['os']\n",
    "post_data['source'] = user_data_curr.iloc[0]['source']\n",
    "post_data['unique_post_interactions'] = user_data_curr.iloc[0]['unique_post_interactions']\n",
    "post_data['posts_liked'] = user_data_curr.iloc[0]['posts_liked']\n",
    "post_data['total_views'] = user_data_curr.iloc[0]['total_views']\n",
    "post_data['posts_liked_share'] = user_data_curr.iloc[0]['posts_liked_share']\n",
    "\n",
    "# Time data\n",
    "post_data['month'] = datetime.now().month\n",
    "post_data['day'] = datetime.now().day\n",
    "post_data['weekday'] = datetime.now().weekday()\n",
    "post_data['hour'] = datetime.now().hour\n",
    "\n",
    "\n",
    "# Leave the variables that matter\n",
    "curr_post_data = post_data[['gender', 'age', 'country', 'city', 'exp_group', 'os', 'source', 'unique_post_interactions', 'posts_liked', 'total_views', 'posts_liked_share', # user-level data\n",
    "                            'text', 'topic', 'post_length', 'month', 'day', 'weekday', 'hour']] # post-level data\n",
    "\n",
    "# Make a prediction\n",
    "curr_post_data['pred'] = catboost_model.predict_proba(curr_post_data)[:,1]\n",
    "\n",
    "# Top-n predictions\n",
    "top_idx = curr_post_data.sort_values(by='pred', ascending=False).head(5).index\n",
    "top_posts = post_data.iloc[top_idx][['post_id', 'text', 'topic']]"
   ]
  },
  {
   "cell_type": "code",
   "execution_count": 75,
   "metadata": {},
   "outputs": [],
   "source": [
    "# Alternative\n",
    "# Select the user data just once\n",
    "user_data_curr = user_data[user_data['user_id'] == 149436].iloc[0]\n",
    "\n",
    "# Concatenating user_data info to every post at once by using a dictionary\n",
    "user_info = {\n",
    "    'gender': user_data_curr['gender'],\n",
    "    'age': user_data_curr['age'],\n",
    "    'country': user_data_curr['country'],\n",
    "    'city': user_data_curr['city'],\n",
    "    'exp_group': user_data_curr['exp_group'],\n",
    "    'os': user_data_curr['os'],\n",
    "    'source': user_data_curr['source'],\n",
    "    'unique_post_interactions': user_data_curr['unique_post_interactions'],\n",
    "    'posts_liked': user_data_curr['posts_liked'],\n",
    "    'total_views': user_data_curr['total_views'],\n",
    "    'posts_liked_share': user_data_curr['posts_liked_share']\n",
    "}\n",
    "\n",
    "# Update post_data in one step\n",
    "post_data = post_data.assign(**user_info)\n",
    "\n",
    "# Time data - only call datetime.now() once\n",
    "now = datetime.now()\n",
    "post_data['month'] = now.month\n",
    "post_data['day'] = now.day\n",
    "post_data['weekday'] = now.weekday()\n",
    "post_data['hour'] = now.hour\n",
    "\n",
    "# Leave the variables that matter\n",
    "features = ['gender', 'age', 'country', 'city', 'exp_group', 'os', 'source', 'unique_post_interactions', \n",
    "            'posts_liked', 'total_views', 'posts_liked_share', 'text', 'topic', 'post_length', 'month', 'day', \n",
    "            'weekday', 'hour']\n",
    "curr_post_data = post_data[features]\n",
    "\n",
    "# Make a prediction\n",
    "curr_post_data['pred'] = catboost_model.predict_proba(curr_post_data)[:, 1]\n",
    "\n",
    "# Get the top 5 predictions (by indices)\n",
    "top_idx = curr_post_data.nlargest(5, 'pred').index\n",
    "\n",
    "# Retrieve 'post_id', 'text', and 'topic' from the original post_data using top_idx\n",
    "top_posts = post_data.loc[top_idx, ['post_id', 'text', 'topic']]"
   ]
  },
  {
   "cell_type": "code",
   "execution_count": 68,
   "metadata": {},
   "outputs": [
    {
     "name": "stdout",
     "output_type": "stream",
     "text": [
      "2646\n",
      "1284\n",
      "918\n",
      "2540\n",
      "1154\n"
     ]
    }
   ],
   "source": [
    "# Let's see the recommendations\n",
    "for post in top_posts:\n",
    "    print(post)"
   ]
  },
  {
   "cell_type": "code",
   "execution_count": 58,
   "metadata": {},
   "outputs": [
    {
     "data": {
      "text/html": [
       "<div>\n",
       "<style scoped>\n",
       "    .dataframe tbody tr th:only-of-type {\n",
       "        vertical-align: middle;\n",
       "    }\n",
       "\n",
       "    .dataframe tbody tr th {\n",
       "        vertical-align: top;\n",
       "    }\n",
       "\n",
       "    .dataframe thead th {\n",
       "        text-align: right;\n",
       "    }\n",
       "</style>\n",
       "<table border=\"1\" class=\"dataframe\">\n",
       "  <thead>\n",
       "    <tr style=\"text-align: right;\">\n",
       "      <th></th>\n",
       "      <th>user_id</th>\n",
       "      <th>gender</th>\n",
       "      <th>age</th>\n",
       "      <th>country</th>\n",
       "      <th>city</th>\n",
       "      <th>exp_group</th>\n",
       "      <th>os</th>\n",
       "      <th>source</th>\n",
       "      <th>unique_post_interactions</th>\n",
       "      <th>posts_liked</th>\n",
       "      <th>total_views</th>\n",
       "      <th>posts_liked_share</th>\n",
       "    </tr>\n",
       "  </thead>\n",
       "  <tbody>\n",
       "    <tr>\n",
       "      <th>130361</th>\n",
       "      <td>135691</td>\n",
       "      <td>0</td>\n",
       "      <td>29</td>\n",
       "      <td>Russia</td>\n",
       "      <td>Saint Petersburg</td>\n",
       "      <td>3</td>\n",
       "      <td>Android</td>\n",
       "      <td>organic</td>\n",
       "      <td>533</td>\n",
       "      <td>71</td>\n",
       "      <td>576</td>\n",
       "      <td>0.133208</td>\n",
       "    </tr>\n",
       "    <tr>\n",
       "      <th>134870</th>\n",
       "      <td>140201</td>\n",
       "      <td>1</td>\n",
       "      <td>38</td>\n",
       "      <td>Russia</td>\n",
       "      <td>Rezh</td>\n",
       "      <td>0</td>\n",
       "      <td>Android</td>\n",
       "      <td>organic</td>\n",
       "      <td>333</td>\n",
       "      <td>19</td>\n",
       "      <td>346</td>\n",
       "      <td>0.057057</td>\n",
       "    </tr>\n",
       "    <tr>\n",
       "      <th>144100</th>\n",
       "      <td>149436</td>\n",
       "      <td>1</td>\n",
       "      <td>23</td>\n",
       "      <td>Azerbaijan</td>\n",
       "      <td>Baku</td>\n",
       "      <td>3</td>\n",
       "      <td>Android</td>\n",
       "      <td>organic</td>\n",
       "      <td>469</td>\n",
       "      <td>25</td>\n",
       "      <td>479</td>\n",
       "      <td>0.053305</td>\n",
       "    </tr>\n",
       "  </tbody>\n",
       "</table>\n",
       "</div>"
      ],
      "text/plain": [
       "        user_id  gender  age     country              city  exp_group  \\\n",
       "130361   135691       0   29      Russia  Saint Petersburg          3   \n",
       "134870   140201       1   38      Russia              Rezh          0   \n",
       "144100   149436       1   23  Azerbaijan              Baku          3   \n",
       "\n",
       "             os   source  unique_post_interactions  posts_liked  total_views  \\\n",
       "130361  Android  organic                       533           71          576   \n",
       "134870  Android  organic                       333           19          346   \n",
       "144100  Android  organic                       469           25          479   \n",
       "\n",
       "        posts_liked_share  \n",
       "130361           0.133208  \n",
       "134870           0.057057  \n",
       "144100           0.053305  "
      ]
     },
     "execution_count": 58,
     "metadata": {},
     "output_type": "execute_result"
    }
   ],
   "source": [
    "user_data.sample(3)"
   ]
  }
 ],
 "metadata": {
  "kernelspec": {
   "display_name": "Python 3",
   "language": "python",
   "name": "python3"
  },
  "language_info": {
   "codemirror_mode": {
    "name": "ipython",
    "version": 3
   },
   "file_extension": ".py",
   "mimetype": "text/x-python",
   "name": "python",
   "nbconvert_exporter": "python",
   "pygments_lexer": "ipython3",
   "version": "3.10.11"
  }
 },
 "nbformat": 4,
 "nbformat_minor": 2
}
